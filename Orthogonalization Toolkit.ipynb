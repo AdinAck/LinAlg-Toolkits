{
 "cells": [
  {
   "cell_type": "code",
   "execution_count": 39,
   "metadata": {},
   "outputs": [],
   "source": [
    "import warnings\n",
    "warnings.filterwarnings('ignore')\n",
    "\n",
    "from sympy import sqrt, Matrix, init_printing\n",
    "init_printing()\n",
    "\n",
    "from fractions import Fraction\n",
    "\n",
    "from typing import Iterable\n",
    "\n",
    "class Vector:\n",
    "    def __init__(self, *components, dim=None):\n",
    "        if dim is None:\n",
    "            if isinstance(components[0], Iterable):\n",
    "                self.components = tuple(components[0])\n",
    "            else:\n",
    "                self.components = components\n",
    "            self.dim = len(self.components)\n",
    "        else:\n",
    "            self.components = tuple(0 for _ in range(dim))\n",
    "            self.dim = dim\n",
    "    \n",
    "    def __add__(self, other):\n",
    "        if isinstance(other, int):\n",
    "            return self\n",
    "        elif isinstance(other, Vector):\n",
    "            if self.dim != other.dim:\n",
    "                raise ValueError(f'Cannot add vector of dimension {self.dim} to vector of dimension {other.dim}')\n",
    "            return Vector(i + j for i, j in zip(self.components, other.components))\n",
    "        else:\n",
    "            raise TypeError(f'Cannot add vector to object of type {type(other)}')\n",
    "    \n",
    "    __radd__ = __add__\n",
    "    \n",
    "    def __sub__(self, other):\n",
    "        if self.dim != other.dim:\n",
    "            raise ValueError(f'Cannot subtract vector of dimension {self.dim} from vector of dimension {other.dim}')\n",
    "        return Vector(i - j for i, j in zip(self.components, other.components))\n",
    "    \n",
    "    def __mul__(self, scalar):\n",
    "        return Vector(scalar * c for c in self.components)\n",
    "    \n",
    "    __rmul__ = __mul__\n",
    "    \n",
    "    def __truediv__(self, scalar):\n",
    "        return self * (1 / scalar)\n",
    "    \n",
    "    def dot(self, other) -> int:\n",
    "        if self.dim != other.dim:\n",
    "            raise ValueError(f'Cannot dot product vector of dimension {self.dim} with vector of dimension {other.dim}')\n",
    "        return sum(i * j for i, j in zip(self.components, other.components))\n",
    "    \n",
    "    def __abs__(self):\n",
    "        return sqrt(self.dot(self))\n",
    "    \n",
    "    def __repr__(self):\n",
    "        return f\"[{', '.join(str(c) for c in self.components)}]\"\n",
    "    \n",
    "    @property\n",
    "    def pretty(self):\n",
    "        return Matrix(self.components)\n",
    "    "
   ]
  },
  {
   "cell_type": "code",
   "execution_count": 32,
   "metadata": {},
   "outputs": [],
   "source": [
    "# Given n vectors, which are a basis for a subspace W. Use the Gram-Schmidt process to find an orthogonal basis for the subspace W.\n",
    "def gram_schmidt(*vectors):\n",
    "    basis = []\n",
    "    for v in vectors:\n",
    "        if len(basis) == 0:\n",
    "            basis.append(v)\n",
    "        else:\n",
    "            basis.append(v - sum(b * Fraction(v.dot(b), b.dot(b)) for b in basis))\n",
    "    return basis\n"
   ]
  },
  {
   "cell_type": "markdown",
   "metadata": {},
   "source": [
    "# Normalize vectors"
   ]
  },
  {
   "cell_type": "code",
   "execution_count": 40,
   "metadata": {},
   "outputs": [
    {
     "data": {
      "text/latex": [
       "$\\displaystyle \\left[ \\left[\\begin{matrix}\\frac{1}{2}\\\\- \\frac{1}{2}\\\\0\\\\\\frac{1}{2}\\\\\\frac{1}{2}\\end{matrix}\\right], \\  \\left[\\begin{matrix}- \\frac{\\sqrt{2}}{4}\\\\\\frac{\\sqrt{2}}{4}\\\\\\frac{\\sqrt{2}}{2}\\\\\\frac{\\sqrt{2}}{4}\\\\\\frac{\\sqrt{2}}{4}\\end{matrix}\\right], \\  \\left[\\begin{matrix}\\frac{1}{2}\\\\\\frac{1}{2}\\\\0\\\\- \\frac{1}{2}\\\\\\frac{1}{2}\\end{matrix}\\right]\\right]$"
      ],
      "text/plain": [
       "⎡        ⎡-√2 ⎤        ⎤\n",
       "⎢        ⎢────⎥        ⎥\n",
       "⎢        ⎢ 4  ⎥        ⎥\n",
       "⎢        ⎢    ⎥        ⎥\n",
       "⎢        ⎢ √2 ⎥        ⎥\n",
       "⎢⎡1/2 ⎤  ⎢ ── ⎥  ⎡1/2 ⎤⎥\n",
       "⎢⎢    ⎥  ⎢ 4  ⎥  ⎢    ⎥⎥\n",
       "⎢⎢-1/2⎥  ⎢    ⎥  ⎢1/2 ⎥⎥\n",
       "⎢⎢    ⎥  ⎢ √2 ⎥  ⎢    ⎥⎥\n",
       "⎢⎢ 0  ⎥, ⎢ ── ⎥, ⎢ 0  ⎥⎥\n",
       "⎢⎢    ⎥  ⎢ 2  ⎥  ⎢    ⎥⎥\n",
       "⎢⎢1/2 ⎥  ⎢    ⎥  ⎢-1/2⎥⎥\n",
       "⎢⎢    ⎥  ⎢ √2 ⎥  ⎢    ⎥⎥\n",
       "⎢⎣1/2 ⎦  ⎢ ── ⎥  ⎣1/2 ⎦⎥\n",
       "⎢        ⎢ 4  ⎥        ⎥\n",
       "⎢        ⎢    ⎥        ⎥\n",
       "⎢        ⎢ √2 ⎥        ⎥\n",
       "⎢        ⎢ ── ⎥        ⎥\n",
       "⎣        ⎣ 4  ⎦        ⎦"
      ]
     },
     "execution_count": 40,
     "metadata": {},
     "output_type": "execute_result"
    }
   ],
   "source": [
    "v1 = Vector(1, -1, 0, 1, 1)\n",
    "v2 = Vector(-2, 2, 4, 2, 2)\n",
    "v3 = Vector(3, 3, 0, -3, 3)\n",
    "\n",
    "[(v1/abs(v1)).pretty, (v2/abs(v2)).pretty, (v3/abs(v3)).pretty]"
   ]
  },
  {
   "cell_type": "markdown",
   "metadata": {},
   "source": [
    "# Distance from vector to vector"
   ]
  },
  {
   "cell_type": "code",
   "execution_count": 41,
   "metadata": {},
   "outputs": [
    {
     "data": {
      "image/png": "[encoded data removed]",
      "text/latex": [
       "$\\displaystyle \\sqrt{39}$"
      ],
      "text/plain": [
       "√39"
      ]
     },
     "execution_count": 41,
     "metadata": {},
     "output_type": "execute_result"
    }
   ],
   "source": [
    "u = Vector(12, -1, 1, -8)\n",
    "v = Vector(11, -3, -4, -5)\n",
    "\n",
    "abs(u-v)"
   ]
  },
  {
   "cell_type": "markdown",
   "metadata": {},
   "source": [
    "# Distance from vector to plane"
   ]
  },
  {
   "cell_type": "code",
   "execution_count": 42,
   "metadata": {},
   "outputs": [
    {
     "data": {
      "image/png": "[encoded data removed]",
      "text/latex": [
       "$\\displaystyle \\frac{98 \\sqrt{870}}{435}$"
      ],
      "text/plain": [
       "98⋅√870\n",
       "───────\n",
       "  435  "
      ]
     },
     "execution_count": 42,
     "metadata": {},
     "output_type": "execute_result"
    }
   ],
   "source": [
    "y =  Vector(3, -7, 5)\n",
    "u1 = Vector(-2, -5, 1)\n",
    "u2 = Vector(-3, 2, 4)\n",
    "\n",
    "abs(y - (u1 * Fraction(y.dot(u1), u1.dot(u1)) + u2 * Fraction(y.dot(u2), u2.dot(u2))))"
   ]
  },
  {
   "cell_type": "markdown",
   "metadata": {},
   "source": [
    "# Gram-Schmidt Orthogonalization"
   ]
  },
  {
   "cell_type": "code",
   "execution_count": 43,
   "metadata": {},
   "outputs": [
    {
     "data": {
      "text/latex": [
       "$\\displaystyle \\left[ \\left[\\begin{matrix}1\\\\-1\\\\-1\\\\1\\\\1\\end{matrix}\\right], \\  \\left[\\begin{matrix}5\\\\0\\\\5\\\\-5\\\\5\\end{matrix}\\right], \\  \\left[\\begin{matrix}3\\\\0\\\\2\\\\2\\\\-3\\end{matrix}\\right]\\right]$"
      ],
      "text/plain": [
       "⎡⎡1 ⎤  ⎡5 ⎤  ⎡3 ⎤⎤\n",
       "⎢⎢  ⎥  ⎢  ⎥  ⎢  ⎥⎥\n",
       "⎢⎢-1⎥  ⎢0 ⎥  ⎢0 ⎥⎥\n",
       "⎢⎢  ⎥  ⎢  ⎥  ⎢  ⎥⎥\n",
       "⎢⎢-1⎥, ⎢5 ⎥, ⎢2 ⎥⎥\n",
       "⎢⎢  ⎥  ⎢  ⎥  ⎢  ⎥⎥\n",
       "⎢⎢1 ⎥  ⎢-5⎥  ⎢2 ⎥⎥\n",
       "⎢⎢  ⎥  ⎢  ⎥  ⎢  ⎥⎥\n",
       "⎣⎣1 ⎦  ⎣5 ⎦  ⎣-3⎦⎦"
      ]
     },
     "execution_count": 43,
     "metadata": {},
     "output_type": "execute_result"
    }
   ],
   "source": [
    "u1 = Vector(1, -1, -1, 1, 1)\n",
    "u2 = Vector(4, 1, 6, -6, 4)\n",
    "u3 = Vector(7, -5, -4, 8, 1)\n",
    "\n",
    "[v.pretty for v in gram_schmidt(u1, u2, u3)]"
   ]
  }
 ],
 "metadata": {
  "interpreter": {
   "hash": "aee8b7b246df8f9039afb4144a1f6fd8d2ca17a180786b69acc140d282b71a49"
  },
  "kernelspec": {
   "display_name": "Python 3.9.6 64-bit",
   "language": "python",
   "name": "python3"
  },
  "language_info": {
   "codemirror_mode": {
    "name": "ipython",
    "version": 3
   },
   "file_extension": ".py",
   "mimetype": "text/x-python",
   "name": "python",
   "nbconvert_exporter": "python",
   "pygments_lexer": "ipython3",
   "version": "3.9.6"
  },
  "orig_nbformat": 4
 },
 "nbformat": 4,
 "nbformat_minor": 2
}
